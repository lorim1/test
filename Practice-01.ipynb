{
 "cells": [
  {
   "cell_type": "markdown",
   "metadata": {},
   "source": [
    "# Chapter 2 Notes\n",
    "## *Each part broken into sections*\n",
    "\n",
    "## Chapter 2.1\n",
    "\n",
    "- Python is an interpreted language\n",
    "- There are areas of code that will prompt a response before continuing to run\n",
    "- .py is the extention for running python programs\n",
    "\n",
    "\n",
    "## Chapter 2.2\n",
    "- Can run the IPython shell with ipython command\n",
    "- Return or Enter key can execute statements\n",
    "- Python statements are meant to be \"pretty-printed\" aka more readable\n",
    "- Jupyter notebook is an interactive document for code, text data visualizations and other output\n",
    "- Jupyter uses kernels, which are implementations of the Jupyter computing protocol"
   ]
  },
  {
   "cell_type": "code",
   "execution_count": 6,
   "metadata": {},
   "outputs": [
    {
     "name": "stdout",
     "output_type": "stream",
     "text": [
      "Hello World!\n"
     ]
    }
   ],
   "source": [
    "print(\"Hello World!\")"
   ]
  },
  {
   "cell_type": "code",
   "execution_count": 7,
   "metadata": {},
   "outputs": [],
   "source": [
    "an_apple = 27"
   ]
  },
  {
   "cell_type": "code",
   "execution_count": 8,
   "metadata": {},
   "outputs": [],
   "source": [
    "an_example = 42"
   ]
  },
  {
   "cell_type": "markdown",
   "metadata": {},
   "source": [
    "- Object introspection - question mark (?) before or after a variable will displacy general information about the object\n",
    "- Using ?? will also show the functions source code (if possible)\n",
    "\n",
    "### Useful keyboard shortcuts\n",
    "- Ctrl-P or up-arrow = Search backward in command history for commands starting with currently entered text\n",
    "- Ctrl-N or down-arrow = Search forward in command history for commands starting with currently entered text\n",
    "- Ctrl-R = Readline-style reverse history search (partial matching)\n",
    "- Ctrl-Shift-V = Paste text from clipboard\n",
    "- Ctrl-C = Interrupt currently executing code\n",
    "- Ctrl-A = Move cursor to beginning of line\n",
    "- Ctrl-E = Move cursor to end of line\n",
    "- Ctrl-K = Delete text from cursor until end of line\n",
    "- Ctrl-U = Discard all text on current line\n",
    "- Ctrl-F = Move cursor forward one character\n",
    "- Ctrl-B = Move cursor back one character\n",
    "- Ctrl-L = Clear screen\n",
    "\n",
    "## IPython Magic Commands\n",
    "- %quickref = Display the IPython Quick Reference Card\n",
    "- %debug = Enter the interactive debugger at the bottom of the last exception traceback\n",
    "- %hist = Print command input (and optionally output) history\n",
    "- %pdb = Automatically enter debugger after any exception\n",
    "- %paste = Execute preformatted Python code from clipboard\n",
    "- %cpaste = Open a special prompt for manually pasting Python code to be executed\n",
    "- %reset = Delete all variables/names defined in interactive namespace\n",
    "- %page OBJECT = Pretty-print the object and display it through a pager\n",
    "- %run script.py = Run a Python script inside IPython\n",
    "- %prun statement = Execute statement with cProfile and report the profiler output\n",
    "- %time statement = Report the execution time of a single statement\n",
    "- %timeit statement = Run a statement multiple times to compute an ensemble average execution time; useful for timing code with very short execution time\n",
    "- %who, %who_ls, %whos = Display variables defined in interactive namespace, with varying levels of information/ verbosity\n",
    "- %xdel variable = Delete a variable and attempt to clear any references to the object in the IPython internals\n",
    "\n",
    "## Chapter 2.3\n",
    "- Python is an object oriented programming\n",
    "- \"#\" is ignored by the interpreter, use for comments\n",
    "- Python differs other languages because object references have no associated type with them\n",
    "\n",
    "### Binary Operators\n",
    "- a + b Add a and b\n",
    "- a - b Subtract b from a\n",
    "- a * b Multiply a by b\n",
    "- a / b Divide a by b\n",
    "- a // b Floor-divide a by b, dropping any fractional remainder\n",
    "- a ** b Raise a to the b power\n",
    "- a & b True if both a and b are True; for integers, take the bitwise AND\n",
    "- a | b True if either a or b is True; for integers, take the bitwise OR\n",
    "- a ^ b For booleans, True if a or b is True, but not both; for integers, take the bitwise EXCLUSIVE-OR\n",
    "- a == b True if a equals b\n",
    "- a != b True if a is not equal to b\n",
    "- a <= b, a < b True if a is less than (less than or equal) to b\n",
    "- a > b, a >= b True if a is greater than (greater than or equal) to b\n",
    "- a is b True if a and b reference the same Python object\n",
    "- a is not b True if a and b reference different Python objects\n",
    "\n",
    "## Chapter 2.4\n",
    "\n",
    "### Standard Python types\n",
    "- None = The Python “null” value (only one instance of the None object exists)\n",
    "- str = String type; holds Unicode (UTF-8 encoded) strings\n",
    "- bytes = Raw ASCII bytes (or Unicode encoded as bytes)\n",
    "- float = Double-precision (64-bit) floating-point number (note there is no separate double type)\n",
    "- bool = A True or False value\n",
    "- int = Arbitrary precision signed integer\n",
    "\n",
    "## Chapter 2.5\n",
    "\n",
    "### Datatime format specification\n",
    "•\t%Y = Four-digit year\n",
    "•\t%y = Two-digit year\n",
    "•\t%m = Two-digit month [01, 12]\n",
    "•\t%d = Two-digit day [01, 31]\n",
    "•\t%H = Hour (24-hour clock) [00, 23]\n",
    "•\t%I = Hour (12-hour clock) [01, 12]\n",
    "•\t%M = Two-digit minute [00, 59]\n",
    "•\t%S = Second [00, 61] (seconds 60, 61 account for leap seconds)\n",
    "•\t%w = Weekday as integer [0 (Sunday), 6]\n",
    "•\t%U = Week number of the year [00, 53]; Sunday is considered the first day of the week, and days before the first Sunday of the year are “week 0”\n",
    "•\t%W = Week number of the year [00, 53]; Monday is considered the first day of the week, and days before the first Monday of the year are “week 0”\n",
    "•\t%z = UTC time zone offset as +HHMM or -HHMM; empty if time zone naive\n",
    "•\t%F = Shortcut for %Y-%m-%d (e.g., 2012-4-18)\n",
    "•\t%D = Shortcut for %m/%d/%y (e.g., 04/18/12)\n",
    "\n"
   ]
  }
 ],
 "metadata": {
  "kernelspec": {
   "display_name": "Python 3",
   "language": "python",
   "name": "python3"
  },
  "language_info": {
   "codemirror_mode": {
    "name": "ipython",
    "version": 3
   },
   "file_extension": ".py",
   "mimetype": "text/x-python",
   "name": "python",
   "nbconvert_exporter": "python",
   "pygments_lexer": "ipython3",
   "version": "3.8.1"
  }
 },
 "nbformat": 4,
 "nbformat_minor": 4
}
